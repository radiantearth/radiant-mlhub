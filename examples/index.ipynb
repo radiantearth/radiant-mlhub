{
 "cells": [
  {
   "cell_type": "markdown",
   "metadata": {},
   "source": [
    "[![Radiant MLHub Logo](https://radiant-assets.s3-us-west-2.amazonaws.com/PrimaryRadiantMLHubLogo.png)](https://mlhub.earth/)"
   ]
  },
  {
   "cell_type": "markdown",
   "metadata": {},
   "source": [
    "# Welcome to the `radiant_mlhub` Examples\n",
    "\n",
    "`radiant_mlhub` is the official Python client for interacting with the [Radiant MLHub API](https://mlhub.earth). You can find the official documentation [here](https://radiant-mlhub.readthedocs.io/en/latest/). The package is [available on PyPi](https://pypi.org/project/radiant-mlhub/) and you can check out the source code [here](https://github.com/radiantearth/radiant-mlhub).\n",
    "\n",
    "## Table of Contents\n",
    "\n",
    "* [Datasets & Collections](./Datasets%20%26%20Collections.ipynb)\n",
    "* [ML Models](./Models.ipynb)\n"
   ]
  }
 ],
 "metadata": {
  "kernelspec": {
   "display_name": "Python 3 (ipykernel)",
   "language": "python",
   "name": "python3"
  },
  "language_info": {
   "codemirror_mode": {
    "name": "ipython",
    "version": 3
   },
   "file_extension": ".py",
   "mimetype": "text/x-python",
   "name": "python",
   "nbconvert_exporter": "python",
   "pygments_lexer": "ipython3",
   "version": "3.9.7"
  }
 },
 "nbformat": 4,
 "nbformat_minor": 4
}
