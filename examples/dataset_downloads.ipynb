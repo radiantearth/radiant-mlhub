{
 "cells": [
  {
   "cell_type": "markdown",
   "id": "a6819045",
   "metadata": {},
   "source": [
    "# MLHub Dataset Download\n",
    "\n",
    "The dataset downloader offers download of STAC catalog archives, and linked dataset assets, as well as partial downloads with filtering options. High level features are:\n",
    "\n",
    "* Robustness\n",
    "    * Asset download resuming.\n",
    "    * Retry and backoff for http error conditions.\n",
    "    * Error reporting for unrecoverable download errors.\n",
    "    * **Checksum validation if MD5 hash is available. TODO: maybe remove yank this feature?**\n",
    "* Performance\n",
    "    * Scales to millions of assets.\n",
    "    * Multithreaded workers: parallel downloads.\n",
    "* Convenience\n",
    "    * Temporal filter\n",
    "    * Bounding box filter\n",
    "    * GeoJSON intersection filter\n",
    "    * STAC collection_id and item asset key filter\n",
    "    \n",
    "## Filesystem layout of STAC Catalog and Assets\n",
    "\n",
    "STAC archive file:\n",
    "\n",
    "`{output_dir}/{dataset_id}/{dataset_id}.tar.gz` \n",
    "\n",
    "Unarchived STAC catalog:\n",
    "\n",
    "`{output_dir}/{dataset_id}/catalog.json` \n",
    "\n",
    "Collection, Item and Asset layout:\n",
    "\n",
    "`{output_dir}/{dataset_id}/{collection_id}/{item_id}/{asset_key}.{ext}` \n",
    "\n",
    "Common Assets, ex: `documentation.pdf` are saved into a `_common` directory\n",
    "instead of duplicating them for many items:\n",
    "\n",
    "`{output_dir}/{dataset_id}/_common/{asset_key}.{ext}`\n",
    "\n",
    "Asset Database: TIP: this file may be safely deleted to free up disk space.\n",
    "\n",
    "`{output_dir}/{dataset_id}/mlhub_stac_assets.db`"
   ]
  },
  {
   "cell_type": "code",
   "execution_count": 1,
   "id": "a62d6158",
   "metadata": {},
   "outputs": [],
   "source": [
    "from radiant_mlhub.models import Dataset"
   ]
  },
  {
   "cell_type": "markdown",
   "id": "bf76c67d",
   "metadata": {},
   "source": [
    "The most basic usage is to fetch a dataset, and then call it's download method. The output directory is by default, the current working directory."
   ]
  },
  {
   "cell_type": "code",
   "execution_count": 2,
   "id": "2cd23d8a",
   "metadata": {},
   "outputs": [
    {
     "data": {
      "text/plain": [
       "'Marine Debris Dataset for Object Detection in Planetscope Imagery'"
      ]
     },
     "execution_count": 2,
     "metadata": {},
     "output_type": "execute_result"
    }
   ],
   "source": [
    "nasa_marine_debris = Dataset.fetch_by_id('nasa_marine_debris')\n",
    "nasa_marine_debris.title"
   ]
  },
  {
   "cell_type": "code",
   "execution_count": 3,
   "id": "a9f5e86e",
   "metadata": {},
   "outputs": [
    {
     "name": "stderr",
     "output_type": "stream",
     "text": [
      "nasa_marine_debris: fetch stac catalog: 258KB [00:00, 75252.46KB/s]                                                     \n",
      "unarchive nasa_marine_debris.tar.gz...: 100%|████████████████████████████████████| 2830/2830 [00:00<00:00, 14185.00it/s]\n",
      "download assets: 100%|█████████████████████████████████████████████████████████████| 2825/2825 [00:19<00:00, 145.36it/s]\n"
     ]
    }
   ],
   "source": [
    "nasa_marine_debris.download()"
   ]
  },
  {
   "cell_type": "code",
   "execution_count": 4,
   "id": "e0855ae8",
   "metadata": {
    "scrolled": true
   },
   "outputs": [
    {
     "name": "stdout",
     "output_type": "stream",
     "text": [
      "98M\tnasa_marine_debris\r\n"
     ]
    }
   ],
   "source": [
    "# shell command to check size of dir:\n",
    "! rm -rf nasa_marine_debris/mlhub_stac_assets.db\n",
    "! du -sh nasa_marine_debris"
   ]
  },
  {
   "cell_type": "code",
   "execution_count": 5,
   "id": "a464dcea",
   "metadata": {},
   "outputs": [],
   "source": [
    "# shell command to cleanup\n",
    "! rm -rf nasa_marine_debris*"
   ]
  },
  {
   "cell_type": "markdown",
   "id": "d70dca6c",
   "metadata": {},
   "source": [
    "## Logging\n",
    "\n",
    "The Python logging module can be used to control the verbosity of the download. Turn in INFO or DEBUG messages to see additional messages:"
   ]
  },
  {
   "cell_type": "code",
   "execution_count": 6,
   "id": "d23d8049",
   "metadata": {
    "scrolled": false
   },
   "outputs": [],
   "source": [
    "import logging\n",
    "logging.basicConfig(level=logging.INFO)"
   ]
  },
  {
   "cell_type": "code",
   "execution_count": 7,
   "id": "8645573c",
   "metadata": {},
   "outputs": [
    {
     "name": "stderr",
     "output_type": "stream",
     "text": [
      "nasa_marine_debris: fetch stac catalog: 258KB [00:00, 34940.12KB/s]                                                     \n",
      "INFO:radiant_mlhub.client.catalog_downloader:unarchive nasa_marine_debris.tar.gz...\n",
      "unarchive nasa_marine_debris.tar.gz...: 100%|████████████████████████████████████| 2830/2830 [00:00<00:00, 14191.09it/s]\n",
      "INFO:radiant_mlhub.client.catalog_downloader:create stac asset list...\n",
      "INFO:radiant_mlhub.client.catalog_downloader:2825 unique assets in stac catalog.\n",
      "download assets: 100%|█████████████████████████████████████████████████████████████| 2825/2825 [00:18<00:00, 152.37it/s]\n",
      "INFO:radiant_mlhub.client.catalog_downloader:assets saved to /data/ME-1140-dataset-archive-support/radiant-mlhub/examples/nasa_marine_debris\n"
     ]
    }
   ],
   "source": [
    "nasa_marine_debris.download()"
   ]
  },
  {
   "cell_type": "markdown",
   "id": "73977aa7",
   "metadata": {},
   "source": [
    "## Output directory options\n",
    "\n",
    "The output directory is by default, the current working directory. The `output_dir` parameter takes a `str` or `pathlib.Path`. It will be created if it does not exist."
   ]
  },
  {
   "cell_type": "code",
   "execution_count": 8,
   "id": "264f07be",
   "metadata": {
    "scrolled": false
   },
   "outputs": [
    {
     "name": "stderr",
     "output_type": "stream",
     "text": [
      "nasa_marine_debris: fetch stac catalog: 258KB [00:00, 91752.62KB/s]                                                     \n",
      "INFO:radiant_mlhub.client.catalog_downloader:unarchive nasa_marine_debris.tar.gz...\n",
      "unarchive nasa_marine_debris.tar.gz...: 100%|████████████████████████████████████| 2830/2830 [00:00<00:00, 14454.68it/s]\n",
      "INFO:radiant_mlhub.client.catalog_downloader:create stac asset list...\n",
      "INFO:radiant_mlhub.client.catalog_downloader:2825 unique assets in stac catalog.\n",
      "download assets: 100%|█████████████████████████████████████████████████████████████| 2825/2825 [00:12<00:00, 226.07it/s]\n",
      "INFO:radiant_mlhub.client.catalog_downloader:assets saved to /tmp/nasa_marine_debris\n"
     ]
    }
   ],
   "source": [
    "# output_dir as string\n",
    "nasa_marine_debris.download(output_dir='/tmp')"
   ]
  },
  {
   "cell_type": "code",
   "execution_count": 10,
   "id": "6e0af066",
   "metadata": {
    "scrolled": true
   },
   "outputs": [
    {
     "name": "stderr",
     "output_type": "stream",
     "text": [
      "INFO:radiant_mlhub.client.catalog_downloader:unarchive nasa_marine_debris.tar.gz...\n",
      "unarchive nasa_marine_debris.tar.gz...: 100%|███████████████████████████████████| 2830/2830 [00:00<00:00, 115104.10it/s]\n",
      "INFO:radiant_mlhub.client.catalog_downloader:create stac asset list...\n",
      "INFO:radiant_mlhub.client.catalog_downloader:2825 unique assets in stac catalog.\n",
      "download assets: 100%|████████████████████████████████████████████████████████████| 2825/2825 [00:01<00:00, 1874.55it/s]\n",
      "INFO:radiant_mlhub.client.catalog_downloader:assets saved to /home/guidorice/my_projects/ml_datasets/nasa_marine_debris\n"
     ]
    }
   ],
   "source": [
    "# output_dir as Path object\n",
    "from pathlib import Path\n",
    "nasa_marine_debris.download(output_dir=Path.home() / 'my_projects' / 'ml_datasets')"
   ]
  },
  {
   "cell_type": "code",
   "execution_count": 11,
   "id": "20851f9c",
   "metadata": {},
   "outputs": [],
   "source": [
    "# shell commands to cleanup\n",
    "! rm -rf nasa_marine_debris*\n",
    "! rm -rf /tmp/nasa_marine_debris*\n",
    "p = str(Path.home() / 'my_projects' / 'ml_datasets' / 'nasa_marine_debris')\n",
    "! rm -rf ${p}"
   ]
  },
  {
   "cell_type": "markdown",
   "id": "a1d6f4f3",
   "metadata": {},
   "source": [
    "## Large dataset performance\n",
    "\n",
    "Let's try a bit larger dataset (tens of thousands of assets). After downloading the complete dataset, we'll explore all of the options for filtering assets. Filtering lets you limit the items and assets to those you are interested in, prior to downloading!\n",
    "\n",
    "This download example was run on a compute-optimized 16-core virtual machine in the MS Azure West-Europe region. You would likely experience slower download performance on your machine, depending on number of cores and network bandwidth."
   ]
  },
  {
   "cell_type": "code",
   "execution_count": 12,
   "id": "be7911b9",
   "metadata": {},
   "outputs": [],
   "source": [
    "sen12floods = Dataset.fetch_by_id('sen12floods')"
   ]
  },
  {
   "cell_type": "code",
   "execution_count": 13,
   "id": "ed7e2246",
   "metadata": {
    "scrolled": true
   },
   "outputs": [
    {
     "name": "stderr",
     "output_type": "stream",
     "text": [
      "sen12floods: fetch stac catalog: 2060KB [00:00, 127699.36KB/s]                                                          \n",
      "INFO:radiant_mlhub.client.catalog_downloader:unarchive sen12floods.tar.gz...\n",
      "unarchive sen12floods.tar.gz...: 100%|█████████████████████████████████████████| 22278/22278 [00:01<00:00, 14239.53it/s]\n",
      "INFO:radiant_mlhub.client.catalog_downloader:create stac asset list...\n",
      "INFO:radiant_mlhub.client.catalog_downloader:39063 unique assets in stac catalog.\n",
      "download assets: 100%|███████████████████████████████████████████████████████████| 39063/39063 [06:26<00:00, 101.06it/s]\n",
      "INFO:radiant_mlhub.client.catalog_downloader:assets saved to /data/ME-1140-dataset-archive-support/radiant-mlhub/examples/sen12floods\n"
     ]
    },
    {
     "name": "stdout",
     "output_type": "stream",
     "text": [
      "CPU times: user 11min 44s, sys: 2min 15s, total: 14min\n",
      "Wall time: 6min 40s\n"
     ]
    }
   ],
   "source": [
    "%%time\n",
    "\n",
    "sen12floods.download()"
   ]
  },
  {
   "cell_type": "code",
   "execution_count": 14,
   "id": "0de032c5",
   "metadata": {},
   "outputs": [
    {
     "name": "stdout",
     "output_type": "stream",
     "text": [
      "15G\tsen12floods\r\n"
     ]
    }
   ],
   "source": [
    "# shell commands to get size of assets\n",
    "! rm -rf sen12floods/mlhub_stac_assets.db\n",
    "! du -sh sen12floods"
   ]
  },
  {
   "cell_type": "code",
   "execution_count": 15,
   "id": "6e385cf9",
   "metadata": {},
   "outputs": [],
   "source": [
    "# shell command to cleanup\n",
    "! rm -rf sen12floods*"
   ]
  },
  {
   "cell_type": "markdown",
   "id": "c775cf4f",
   "metadata": {},
   "source": [
    "## Filtering assets options\n",
    "\n",
    "Filters may be freely combined (except `bbox` and `intersects` where are independent options).\n",
    "\n",
    "### Filter by collection and asset keys\n",
    "\n",
    "To download only the specified STAC collection ids and STAC item asset keys, create a dictionary in this format and pass it to the `collection_filter` parameter:\n",
    "\n",
    "```\n",
    "{ collection_id1: [ asset_key1, asset_key2, ...], collection_id2: [asset_key1, asset_key2, ...] , ... }\n",
    "```"
   ]
  },
  {
   "cell_type": "code",
   "execution_count": 16,
   "id": "ae96908c",
   "metadata": {},
   "outputs": [
    {
     "name": "stderr",
     "output_type": "stream",
     "text": [
      "sen12floods: fetch stac catalog: 2060KB [00:00, 118918.57KB/s]                                                          \n",
      "INFO:radiant_mlhub.client.catalog_downloader:unarchive sen12floods.tar.gz...\n",
      "unarchive sen12floods.tar.gz...: 100%|█████████████████████████████████████████| 22278/22278 [00:01<00:00, 14177.67it/s]\n",
      "INFO:radiant_mlhub.client.catalog_downloader:create stac asset list...\n",
      "INFO:radiant_mlhub.client.catalog_downloader:39063 unique assets in stac catalog.\n",
      "INFO:radiant_mlhub.client.catalog_downloader:filter collection ids and asset keys...\n",
      "filter collection ids and asset keys...:   0%|                                                | 0/39063 [00:00<?, ?it/s]INFO:radiant_mlhub.client.catalog_downloader:11181 assets after collection filter.\n",
      "filter collection ids and asset keys...: 1052395it [00:00, 5777049.66it/s]                                              \n",
      "download assets: 100%|████████████████████████████████████████████████████████████| 11181/11181 [01:53<00:00, 98.82it/s]\n",
      "INFO:radiant_mlhub.client.catalog_downloader:assets saved to /data/ME-1140-dataset-archive-support/radiant-mlhub/examples/sen12floods\n"
     ]
    }
   ],
   "source": [
    "my_filter = dict(\n",
    "    sen12floods_s2_source=['B02', 'B03', 'B04', 'B08'],   # Red, Green, Blue, NIR\n",
    "    sen12floods_s2_labels=['labels', 'documentation'], \n",
    ")  \n",
    "sen12floods.download(collection_filter=my_filter)"
   ]
  },
  {
   "cell_type": "code",
   "execution_count": 17,
   "id": "9f45e1dd",
   "metadata": {
    "scrolled": true
   },
   "outputs": [
    {
     "name": "stdout",
     "output_type": "stream",
     "text": [
      "4.6G\tsen12floods\r\n"
     ]
    }
   ],
   "source": [
    "# shell commands to get size of assets\n",
    "! rm -rf sen12floods/mlhub_stac_assets.db\n",
    "! du -sh sen12floods"
   ]
  },
  {
   "cell_type": "code",
   "execution_count": 18,
   "id": "3b01525f",
   "metadata": {},
   "outputs": [],
   "source": [
    "# shell command to cleanup\n",
    "! rm -rf sen12floods*"
   ]
  },
  {
   "cell_type": "markdown",
   "id": "f544e7ea",
   "metadata": {},
   "source": [
    "### Filter by temporal range"
   ]
  },
  {
   "cell_type": "markdown",
   "id": "d9f7e796",
   "metadata": {},
   "source": [
    "Using the `datetime` filter lets you specify the datetime range (tuple of `datetime`), or a single day (single `datetime`), to filter STAC items."
   ]
  },
  {
   "cell_type": "code",
   "execution_count": 19,
   "id": "f33d54b5",
   "metadata": {},
   "outputs": [
    {
     "name": "stderr",
     "output_type": "stream",
     "text": [
      "sen12floods: fetch stac catalog: 2060KB [00:00, 117281.78KB/s]                                                          \n",
      "INFO:radiant_mlhub.client.catalog_downloader:unarchive sen12floods.tar.gz...\n",
      "unarchive sen12floods.tar.gz...: 100%|█████████████████████████████████████████| 22278/22278 [00:01<00:00, 14269.02it/s]\n",
      "INFO:radiant_mlhub.client.catalog_downloader:create stac asset list...\n",
      "INFO:radiant_mlhub.client.catalog_downloader:39063 unique assets in stac catalog.\n",
      "INFO:radiant_mlhub.client.catalog_downloader:filter by temporal query...\n",
      "filter by temporal query...: 1052395it [00:02, 646371.82it/s]                                                           INFO:radiant_mlhub.client.catalog_downloader:1842 assets after temporal filter.\n",
      "filter by temporal query...: 1052395it [00:02, 351032.70it/s]\n",
      "download assets: 100%|██████████████████████████████████████████████████████████████| 1842/1842 [00:22<00:00, 80.31it/s]\n",
      "INFO:radiant_mlhub.client.catalog_downloader:assets saved to /data/ME-1140-dataset-archive-support/radiant-mlhub/examples/sen12floods\n"
     ]
    }
   ],
   "source": [
    "from dateutil.parser import parse\n",
    "\n",
    "my_start_date=parse(\"2019-04-01T00:00:00+0000\")\n",
    "my_end_date=parse(\"2019-04-07T00:00:00+0000\")\n",
    "sen12floods.download(datetime=(my_start_date, my_end_date))"
   ]
  },
  {
   "cell_type": "markdown",
   "id": "ec6ce74b",
   "metadata": {},
   "source": [
    "### Filter by spatial bounding box (bbox)\n",
    "\n",
    "Using the `bbox` filter lets you specify a bounding box in lat/lng (CRS EPSG:4326) for a spatial intersection test with each STAC item's bounding box. Note: the `bbox` filter may not be used with the `intersects` filter (use one or the other)."
   ]
  },
  {
   "cell_type": "code",
   "execution_count": 21,
   "id": "721c61d9",
   "metadata": {
    "scrolled": true
   },
   "outputs": [
    {
     "name": "stderr",
     "output_type": "stream",
     "text": [
      "INFO:radiant_mlhub.client.catalog_downloader:unarchive sen12floods.tar.gz...\n",
      "unarchive sen12floods.tar.gz...: 100%|████████████████████████████████████████| 22278/22278 [00:00<00:00, 120440.60it/s]\n",
      "INFO:radiant_mlhub.client.catalog_downloader:create stac asset list...\n",
      "INFO:radiant_mlhub.client.catalog_downloader:39063 unique assets in stac catalog.\n",
      "INFO:radiant_mlhub.client.catalog_downloader:filter by bounding box...\n",
      "filter by bounding box...: 107520it [00:00, 1045769.97it/s]                                                             INFO:radiant_mlhub.client.catalog_downloader:131 assets after bounding box filter.\n",
      "filter by bounding box...: 1052395it [00:00, 3133664.79it/s]\n",
      "download assets: 100%|██████████████████████████████████████████████████████████████| 131/131 [00:00<00:00, 2713.19it/s]\n",
      "INFO:radiant_mlhub.client.catalog_downloader:assets saved to /data/ME-1140-dataset-archive-support/radiant-mlhub/examples/sen12floods\n"
     ]
    }
   ],
   "source": [
    "my_bbox = [\n",
    "        -13.278254,\n",
    "        8.447033,\n",
    "        -13.231551,\n",
    "        8.493532\n",
    "]\n",
    "sen12floods.download(bbox=my_bbox)"
   ]
  },
  {
   "cell_type": "markdown",
   "id": "592f4cea",
   "metadata": {},
   "source": [
    "### Filter by GeoJSON area of interest\n",
    "\n",
    "Using the `intersects` filter lets you specify a GeoJSON area of interest for a spatial intersection test with each STAC item's bounding box. Note: the `intersects` filter may not be used with the `bbox` filter (use one or the other)."
   ]
  },
  {
   "cell_type": "code",
   "execution_count": 22,
   "id": "6861bc70",
   "metadata": {},
   "outputs": [
    {
     "name": "stderr",
     "output_type": "stream",
     "text": [
      "INFO:radiant_mlhub.client.catalog_downloader:unarchive sen12floods.tar.gz...\n",
      "unarchive sen12floods.tar.gz...: 100%|████████████████████████████████████████| 22278/22278 [00:00<00:00, 120482.21it/s]\n",
      "INFO:radiant_mlhub.client.catalog_downloader:create stac asset list...\n",
      "INFO:radiant_mlhub.client.catalog_downloader:39063 unique assets in stac catalog.\n",
      "INFO:radiant_mlhub.client.catalog_downloader:filter by intersects...\n",
      "filter by intersects...: 122880it [00:00, 1146170.23it/s]                                                               INFO:radiant_mlhub.client.catalog_downloader:131 assets after intersects filter.\n",
      "filter by intersects...: 1052395it [00:00, 3192921.97it/s]\n",
      "download assets: 100%|██████████████████████████████████████████████████████████████| 131/131 [00:00<00:00, 2808.97it/s]\n",
      "INFO:radiant_mlhub.client.catalog_downloader:assets saved to /data/ME-1140-dataset-archive-support/radiant-mlhub/examples/sen12floods\n"
     ]
    }
   ],
   "source": [
    "import json\n",
    "my_geojson = json.loads(\n",
    "    \"\"\"\n",
    "    {\n",
    "        \"type\": \"Feature\",\n",
    "        \"geometry\": {\n",
    "            \"type\": \"Polygon\",\n",
    "            \"coordinates\": [\n",
    "                [\n",
    "                    [\n",
    "                        -13.278048,\n",
    "                        8.493532\n",
    "                    ],\n",
    "                    [\n",
    "                        -13.278254,\n",
    "                        8.447241\n",
    "                    ],\n",
    "                    [\n",
    "                        -13.231762,\n",
    "                        8.447033\n",
    "                    ],\n",
    "                    [\n",
    "                        -13.231551,\n",
    "                        8.493323\n",
    "                    ],\n",
    "                    [\n",
    "                        -13.278048,\n",
    "                        8.493532\n",
    "                    ]\n",
    "                ]\n",
    "            ]           \n",
    "        }\n",
    "    }\n",
    "    \"\"\"\n",
    ")\n",
    "sen12floods.download(intersects=my_geojson)"
   ]
  },
  {
   "cell_type": "code",
   "execution_count": 23,
   "id": "127abe93",
   "metadata": {},
   "outputs": [],
   "source": [
    "# shell command to cleanup\n",
    "! rm -rf sen12floods*"
   ]
  },
  {
   "cell_type": "markdown",
   "id": "c3a7567d",
   "metadata": {},
   "source": [
    "## STAC Catalog Only download\n",
    "\n",
    "If you want to inspect the STAC catalog and write your own download client for the dataset, assets just pass the `catalog_only` option to the download method:"
   ]
  },
  {
   "cell_type": "code",
   "execution_count": 24,
   "id": "d3443eba",
   "metadata": {
    "scrolled": true
   },
   "outputs": [
    {
     "name": "stderr",
     "output_type": "stream",
     "text": [
      "sen12floods: fetch stac catalog: 2060KB [00:00, 127903.52KB/s]                                                          \n",
      "INFO:radiant_mlhub.client.catalog_downloader:unarchive sen12floods.tar.gz...\n",
      "unarchive sen12floods.tar.gz...: 100%|█████████████████████████████████████████| 22278/22278 [00:01<00:00, 14284.65it/s]\n",
      "INFO:radiant_mlhub.client.catalog_downloader:catalog saved to /data/ME-1140-dataset-archive-support/radiant-mlhub/examples/sen12floods\n"
     ]
    }
   ],
   "source": [
    "sen12floods.download(catalog_only=True)"
   ]
  },
  {
   "cell_type": "code",
   "execution_count": null,
   "id": "abcc9f78",
   "metadata": {},
   "outputs": [],
   "source": []
  }
 ],
 "metadata": {
  "kernelspec": {
   "display_name": "Python 3 (ipykernel)",
   "language": "python",
   "name": "python3"
  },
  "language_info": {
   "codemirror_mode": {
    "name": "ipython",
    "version": 3
   },
   "file_extension": ".py",
   "mimetype": "text/x-python",
   "name": "python",
   "nbconvert_exporter": "python",
   "pygments_lexer": "ipython3",
   "version": "3.9.12"
  }
 },
 "nbformat": 4,
 "nbformat_minor": 5
}
