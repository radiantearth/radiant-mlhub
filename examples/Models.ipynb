{
 "cells": [
  {
   "cell_type": "markdown",
   "metadata": {},
   "source": [
    "[![Radiant MLHub Logo](https://radiant-assets.s3-us-west-2.amazonaws.com/PrimaryRadiantMLHubLogo.png)](https://mlhub.earth/)"
   ]
  },
  {
   "cell_type": "markdown",
   "metadata": {},
   "source": [
    "# Models\n",
    "\n",
    "A **Model** in the Radiant MLHub API is a STAC item implementing the [ML Model\n",
    "extension](https://github.com/stac-extensions/ml-model). The goal of the STAC\n",
    "ML Model Extension is to provide a way of cataloging machine learning (ML)\n",
    "models that operate on Earth observation (EO) data described as a STAC catalog.\n",
    "\n",
    "This notebook will walk you through a few common techniques for working with\n",
    "Radiant MLHub model, including:\n",
    "\n",
    "* Listing available models\n",
    "* Fetching a model\n",
    "* Fetching assets and links associated with a model\n",
    "\n",
    "\n"
   ]
  },
  {
   "cell_type": "markdown",
   "metadata": {},
   "source": [
    "### Import Libraries"
   ]
  },
  {
   "cell_type": "code",
   "execution_count": 2,
   "metadata": {},
   "outputs": [],
   "source": [
    "from pprint import pprint\n",
    "\n",
    "from radiant_mlhub import MLModel, client"
   ]
  },
  {
   "cell_type": "markdown",
   "metadata": {},
   "source": [
    "## `MLModel` Class\n",
    "\n",
    "Using the `radiant_mlhub.MLModel` class is the recommended method for working with models as Python objects (see [Low-Level Client](#Low-Level-Client) docs below for how to work with raw API responses). The `MLModel` class has some convenient methods for listing and fetching models, as well as fetching the assets associated with those models."
   ]
  },
  {
   "cell_type": "markdown",
   "metadata": {},
   "source": [
    "### List Models\n",
    "\n",
    "You can use the `MLModel.list` class method to list all models available\n",
    "through the Radiant MLHub API. Each instance has `id` and `properties` attributes\n",
    "that you can inspect to get more information about the model, and the `assets` and\n",
    "`links` properties that you can use to get the links associated with the\n",
    "models."
   ]
  },
  {
   "cell_type": "code",
   "execution_count": 17,
   "metadata": {},
   "outputs": [
    {
     "name": "stdout",
     "output_type": "stream",
     "text": [
      "Tropical Cyclone Wind Estimation Model (model-cyclone-wind-estimation-torchgeo-v1)\n"
     ]
    }
   ],
   "source": [
    "models = MLModel.list()\n",
    "\n",
    "# List the title and ID of first 10 models returned by the API\n",
    "for model in models:\n",
    "    print(f\"{model.properties.get('title')} ({model.id})\")"
   ]
  },
  {
   "cell_type": "markdown",
   "metadata": {},
   "source": [
    "### Fetch a Model\n",
    "\n",
    "If you know the ID of a model, you can also fetch it directly using the `MLModel.fetch` method. This method returns a `MLModel` instance."
   ]
  },
  {
   "cell_type": "code",
   "execution_count": 18,
   "metadata": {},
   "outputs": [
    {
     "name": "stdout",
     "output_type": "stream",
     "text": [
      "This is a PyTorch model trained on the [Tropical Cyclone Wind Estimation Competition](https://registry.mlhub.earth/10.34911/rdnt.xs53up/) dataset with v0.1 of the [TorchGeo](https://github.com/microsoft/torchgeo) package. The model is a resnet18 model pretrained on [ImageNet](https://www.image-net.org/index.php) then trained with a MSE loss. The data were randomly split 80/20 by storm ID and an early stop was used based on performance.\n"
     ]
    }
   ],
   "source": [
    "cyclone_model = MLModel.fetch('model-cyclone-wind-estimation-torchgeo-v1')\n",
    "print(cyclone_model.properties.get('description'))"
   ]
  },
  {
   "cell_type": "markdown",
   "metadata": {},
   "source": [
    "### List Model's Assets and Links\n",
    "\n",
    "A Model has assets, e.g. model inferencing runtime, model checkpoint, and also links\n",
    "for example to training data, and/or to related Datasets."
   ]
  },
  {
   "cell_type": "code",
   "execution_count": 36,
   "metadata": {},
   "outputs": [
    {
     "name": "stdout",
     "output_type": "stream",
     "text": [
      "Root Catalog ./catalog.json\n",
      "Root Catalog ./catalog.json\n",
      "Cyclone Wind Estimation Model docker.io/radiantearth/cyclone-model-torchgeo:1\n"
     ]
    },
    {
     "ename": "STACError",
     "evalue": "Relative path ./catalog.json encountered without owner \"self\" link set.",
     "output_type": "error",
     "traceback": [
      "\u001b[0;31m---------------------------------------------------------------------------\u001b[0m",
      "\u001b[0;31mSTACError\u001b[0m                                 Traceback (most recent call last)",
      "\u001b[1;32m/Users/alex/repos/mlhub/radiant-mlhub/examples/Models.ipynb Cell 11'\u001b[0m in \u001b[0;36m<module>\u001b[0;34m\u001b[0m\n\u001b[1;32m      <a href='vscode-notebook-cell:/Users/alex/repos/mlhub/radiant-mlhub/examples/Models.ipynb#ch0000030?line=0'>1</a>\u001b[0m \u001b[39mfor\u001b[39;00m link \u001b[39min\u001b[39;00m cyclone_model\u001b[39m.\u001b[39mlinks:\n\u001b[0;32m----> <a href='vscode-notebook-cell:/Users/alex/repos/mlhub/radiant-mlhub/examples/Models.ipynb#ch0000030?line=1'>2</a>\u001b[0m     \u001b[39mprint\u001b[39m(\u001b[39mf\u001b[39m\u001b[39m\"\u001b[39m\u001b[39m{\u001b[39;00mlink\u001b[39m.\u001b[39mtitle\u001b[39m}\u001b[39;00m\u001b[39m \u001b[39m\u001b[39m{\u001b[39;00mlink\u001b[39m.\u001b[39mhref\u001b[39m}\u001b[39;00m\u001b[39m\"\u001b[39m)\n",
      "File \u001b[0;32m~/repos/mlhub/radiant-mlhub/venv/lib/python3.9/site-packages/pystac-1.3.0-py3.9.egg/pystac/link.py:127\u001b[0m, in \u001b[0;36mLink.href\u001b[0;34m(self)\u001b[0m\n\u001b[1;32m    <a href='file:///~/repos/mlhub/radiant-mlhub/venv/lib/python3.9/site-packages/pystac-1.3.0-py3.9.egg/pystac/link.py?line=119'>120</a>\u001b[0m \u001b[39m@property\u001b[39m\n\u001b[1;32m    <a href='file:///~/repos/mlhub/radiant-mlhub/venv/lib/python3.9/site-packages/pystac-1.3.0-py3.9.egg/pystac/link.py?line=120'>121</a>\u001b[0m \u001b[39mdef\u001b[39;00m \u001b[39mhref\u001b[39m(\u001b[39mself\u001b[39m) \u001b[39m-\u001b[39m\u001b[39m>\u001b[39m \u001b[39mstr\u001b[39m:\n\u001b[1;32m    <a href='file:///~/repos/mlhub/radiant-mlhub/venv/lib/python3.9/site-packages/pystac-1.3.0-py3.9.egg/pystac/link.py?line=121'>122</a>\u001b[0m     \u001b[39m\"\"\"Returns the HREF for this link.\u001b[39;00m\n\u001b[1;32m    <a href='file:///~/repos/mlhub/radiant-mlhub/venv/lib/python3.9/site-packages/pystac-1.3.0-py3.9.egg/pystac/link.py?line=122'>123</a>\u001b[0m \n\u001b[1;32m    <a href='file:///~/repos/mlhub/radiant-mlhub/venv/lib/python3.9/site-packages/pystac-1.3.0-py3.9.egg/pystac/link.py?line=123'>124</a>\u001b[0m \u001b[39m    If the href is None, this will throw an exception.\u001b[39;00m\n\u001b[1;32m    <a href='file:///~/repos/mlhub/radiant-mlhub/venv/lib/python3.9/site-packages/pystac-1.3.0-py3.9.egg/pystac/link.py?line=124'>125</a>\u001b[0m \u001b[39m    Use get_href if there may not be an href.\u001b[39;00m\n\u001b[1;32m    <a href='file:///~/repos/mlhub/radiant-mlhub/venv/lib/python3.9/site-packages/pystac-1.3.0-py3.9.egg/pystac/link.py?line=125'>126</a>\u001b[0m \u001b[39m    \"\"\"\u001b[39;00m\n\u001b[0;32m--> <a href='file:///~/repos/mlhub/radiant-mlhub/venv/lib/python3.9/site-packages/pystac-1.3.0-py3.9.egg/pystac/link.py?line=126'>127</a>\u001b[0m     result \u001b[39m=\u001b[39m \u001b[39mself\u001b[39;49m\u001b[39m.\u001b[39;49mget_href()\n\u001b[1;32m    <a href='file:///~/repos/mlhub/radiant-mlhub/venv/lib/python3.9/site-packages/pystac-1.3.0-py3.9.egg/pystac/link.py?line=127'>128</a>\u001b[0m     \u001b[39mif\u001b[39;00m result \u001b[39mis\u001b[39;00m \u001b[39mNone\u001b[39;00m:\n\u001b[1;32m    <a href='file:///~/repos/mlhub/radiant-mlhub/venv/lib/python3.9/site-packages/pystac-1.3.0-py3.9.egg/pystac/link.py?line=128'>129</a>\u001b[0m         \u001b[39mraise\u001b[39;00m \u001b[39mValueError\u001b[39;00m(\u001b[39mf\u001b[39m\u001b[39m\"\u001b[39m\u001b[39m{\u001b[39;00m\u001b[39mself\u001b[39m\u001b[39m}\u001b[39;00m\u001b[39m does not have an HREF set.\u001b[39m\u001b[39m\"\u001b[39m)\n",
      "File \u001b[0;32m~/repos/mlhub/radiant-mlhub/venv/lib/python3.9/site-packages/pystac-1.3.0-py3.9.egg/pystac/link.py:159\u001b[0m, in \u001b[0;36mLink.get_href\u001b[0;34m(self, transform_href)\u001b[0m\n\u001b[1;32m    <a href='file:///~/repos/mlhub/radiant-mlhub/venv/lib/python3.9/site-packages/pystac-1.3.0-py3.9.egg/pystac/link.py?line=150'>151</a>\u001b[0m \u001b[39melse\u001b[39;00m:\n\u001b[1;32m    <a href='file:///~/repos/mlhub/radiant-mlhub/venv/lib/python3.9/site-packages/pystac-1.3.0-py3.9.egg/pystac/link.py?line=151'>152</a>\u001b[0m     href \u001b[39m=\u001b[39m \u001b[39mself\u001b[39m\u001b[39m.\u001b[39m_target_href\n\u001b[1;32m    <a href='file:///~/repos/mlhub/radiant-mlhub/venv/lib/python3.9/site-packages/pystac-1.3.0-py3.9.egg/pystac/link.py?line=153'>154</a>\u001b[0m \u001b[39mif\u001b[39;00m (\n\u001b[1;32m    <a href='file:///~/repos/mlhub/radiant-mlhub/venv/lib/python3.9/site-packages/pystac-1.3.0-py3.9.egg/pystac/link.py?line=154'>155</a>\u001b[0m     transform_href\n\u001b[1;32m    <a href='file:///~/repos/mlhub/radiant-mlhub/venv/lib/python3.9/site-packages/pystac-1.3.0-py3.9.egg/pystac/link.py?line=155'>156</a>\u001b[0m     \u001b[39mand\u001b[39;00m href\n\u001b[1;32m    <a href='file:///~/repos/mlhub/radiant-mlhub/venv/lib/python3.9/site-packages/pystac-1.3.0-py3.9.egg/pystac/link.py?line=156'>157</a>\u001b[0m     \u001b[39mand\u001b[39;00m is_absolute_href(href)\n\u001b[1;32m    <a href='file:///~/repos/mlhub/radiant-mlhub/venv/lib/python3.9/site-packages/pystac-1.3.0-py3.9.egg/pystac/link.py?line=157'>158</a>\u001b[0m     \u001b[39mand\u001b[39;00m \u001b[39mself\u001b[39m\u001b[39m.\u001b[39mowner\n\u001b[0;32m--> <a href='file:///~/repos/mlhub/radiant-mlhub/venv/lib/python3.9/site-packages/pystac-1.3.0-py3.9.egg/pystac/link.py?line=158'>159</a>\u001b[0m     \u001b[39mand\u001b[39;00m \u001b[39mself\u001b[39;49m\u001b[39m.\u001b[39;49mowner\u001b[39m.\u001b[39;49mget_root()\n\u001b[1;32m    <a href='file:///~/repos/mlhub/radiant-mlhub/venv/lib/python3.9/site-packages/pystac-1.3.0-py3.9.egg/pystac/link.py?line=159'>160</a>\u001b[0m ):\n\u001b[1;32m    <a href='file:///~/repos/mlhub/radiant-mlhub/venv/lib/python3.9/site-packages/pystac-1.3.0-py3.9.egg/pystac/link.py?line=160'>161</a>\u001b[0m     root \u001b[39m=\u001b[39m \u001b[39mself\u001b[39m\u001b[39m.\u001b[39mowner\u001b[39m.\u001b[39mget_root()\n\u001b[1;32m    <a href='file:///~/repos/mlhub/radiant-mlhub/venv/lib/python3.9/site-packages/pystac-1.3.0-py3.9.egg/pystac/link.py?line=161'>162</a>\u001b[0m     rel_links \u001b[39m=\u001b[39m [\n\u001b[1;32m    <a href='file:///~/repos/mlhub/radiant-mlhub/venv/lib/python3.9/site-packages/pystac-1.3.0-py3.9.egg/pystac/link.py?line=162'>163</a>\u001b[0m         \u001b[39m*\u001b[39mHIERARCHICAL_LINKS,\n\u001b[1;32m    <a href='file:///~/repos/mlhub/radiant-mlhub/venv/lib/python3.9/site-packages/pystac-1.3.0-py3.9.egg/pystac/link.py?line=163'>164</a>\u001b[0m         \u001b[39m*\u001b[39mpystac\u001b[39m.\u001b[39mEXTENSION_HOOKS\u001b[39m.\u001b[39mget_extended_object_links(\u001b[39mself\u001b[39m\u001b[39m.\u001b[39mowner),\n\u001b[1;32m    <a href='file:///~/repos/mlhub/radiant-mlhub/venv/lib/python3.9/site-packages/pystac-1.3.0-py3.9.egg/pystac/link.py?line=164'>165</a>\u001b[0m     ]\n",
      "File \u001b[0;32m~/repos/mlhub/radiant-mlhub/venv/lib/python3.9/site-packages/pystac-1.3.0-py3.9.egg/pystac/stac_object.py:198\u001b[0m, in \u001b[0;36mSTACObject.get_root\u001b[0;34m(self)\u001b[0m\n\u001b[1;32m    <a href='file:///~/repos/mlhub/radiant-mlhub/venv/lib/python3.9/site-packages/pystac-1.3.0-py3.9.egg/pystac/stac_object.py?line=195'>196</a>\u001b[0m \u001b[39mif\u001b[39;00m root_link:\n\u001b[1;32m    <a href='file:///~/repos/mlhub/radiant-mlhub/venv/lib/python3.9/site-packages/pystac-1.3.0-py3.9.egg/pystac/stac_object.py?line=196'>197</a>\u001b[0m     \u001b[39mif\u001b[39;00m \u001b[39mnot\u001b[39;00m root_link\u001b[39m.\u001b[39mis_resolved():\n\u001b[0;32m--> <a href='file:///~/repos/mlhub/radiant-mlhub/venv/lib/python3.9/site-packages/pystac-1.3.0-py3.9.egg/pystac/stac_object.py?line=197'>198</a>\u001b[0m         root_link\u001b[39m.\u001b[39;49mresolve_stac_object()\n\u001b[1;32m    <a href='file:///~/repos/mlhub/radiant-mlhub/venv/lib/python3.9/site-packages/pystac-1.3.0-py3.9.egg/pystac/stac_object.py?line=198'>199</a>\u001b[0m         \u001b[39m# Use set_root, so Catalogs can merge ResolvedObjectCache instances.\u001b[39;00m\n\u001b[1;32m    <a href='file:///~/repos/mlhub/radiant-mlhub/venv/lib/python3.9/site-packages/pystac-1.3.0-py3.9.egg/pystac/stac_object.py?line=199'>200</a>\u001b[0m         \u001b[39mself\u001b[39m\u001b[39m.\u001b[39mset_root(cast(pystac\u001b[39m.\u001b[39mCatalog, root_link\u001b[39m.\u001b[39mtarget))\n",
      "File \u001b[0;32m~/repos/mlhub/radiant-mlhub/venv/lib/python3.9/site-packages/pystac-1.3.0-py3.9.egg/pystac/link.py:270\u001b[0m, in \u001b[0;36mLink.resolve_stac_object\u001b[0;34m(self, root)\u001b[0m\n\u001b[1;32m    <a href='file:///~/repos/mlhub/radiant-mlhub/venv/lib/python3.9/site-packages/pystac-1.3.0-py3.9.egg/pystac/link.py?line=266'>267</a>\u001b[0m     start_href \u001b[39m=\u001b[39m \u001b[39mself\u001b[39m\u001b[39m.\u001b[39mowner\u001b[39m.\u001b[39mget_self_href()\n\u001b[1;32m    <a href='file:///~/repos/mlhub/radiant-mlhub/venv/lib/python3.9/site-packages/pystac-1.3.0-py3.9.egg/pystac/link.py?line=268'>269</a>\u001b[0m     \u001b[39mif\u001b[39;00m start_href \u001b[39mis\u001b[39;00m \u001b[39mNone\u001b[39;00m:\n\u001b[0;32m--> <a href='file:///~/repos/mlhub/radiant-mlhub/venv/lib/python3.9/site-packages/pystac-1.3.0-py3.9.egg/pystac/link.py?line=269'>270</a>\u001b[0m         \u001b[39mraise\u001b[39;00m pystac\u001b[39m.\u001b[39mSTACError(\n\u001b[1;32m    <a href='file:///~/repos/mlhub/radiant-mlhub/venv/lib/python3.9/site-packages/pystac-1.3.0-py3.9.egg/pystac/link.py?line=270'>271</a>\u001b[0m             \u001b[39m\"\u001b[39m\u001b[39mRelative path \u001b[39m\u001b[39m{}\u001b[39;00m\u001b[39m encountered \u001b[39m\u001b[39m\"\u001b[39m\n\u001b[1;32m    <a href='file:///~/repos/mlhub/radiant-mlhub/venv/lib/python3.9/site-packages/pystac-1.3.0-py3.9.egg/pystac/link.py?line=271'>272</a>\u001b[0m             \u001b[39m'\u001b[39m\u001b[39mwithout owner \u001b[39m\u001b[39m\"\u001b[39m\u001b[39mself\u001b[39m\u001b[39m\"\u001b[39m\u001b[39m link set.\u001b[39m\u001b[39m'\u001b[39m\u001b[39m.\u001b[39mformat(target_href)\n\u001b[1;32m    <a href='file:///~/repos/mlhub/radiant-mlhub/venv/lib/python3.9/site-packages/pystac-1.3.0-py3.9.egg/pystac/link.py?line=272'>273</a>\u001b[0m         )\n\u001b[1;32m    <a href='file:///~/repos/mlhub/radiant-mlhub/venv/lib/python3.9/site-packages/pystac-1.3.0-py3.9.egg/pystac/link.py?line=274'>275</a>\u001b[0m     target_href \u001b[39m=\u001b[39m make_absolute_href(target_href, start_href)\n\u001b[1;32m    <a href='file:///~/repos/mlhub/radiant-mlhub/venv/lib/python3.9/site-packages/pystac-1.3.0-py3.9.egg/pystac/link.py?line=275'>276</a>\u001b[0m obj \u001b[39m=\u001b[39m \u001b[39mNone\u001b[39;00m\n",
      "\u001b[0;31mSTACError\u001b[0m: Relative path ./catalog.json encountered without owner \"self\" link set."
     ]
    }
   ],
   "source": [
    "for link in cyclone_model.links:\n",
    "    print(f\"{link.title} {link.href}\")"
   ]
  },
  {
   "cell_type": "code",
   "execution_count": 37,
   "metadata": {},
   "outputs": [
    {
     "name": "stdout",
     "output_type": "stream",
     "text": [
      "inferencing-compose: Model inferencing runtime https://raw.githubusercontent.com/RadiantMLHub/cyclone-model-torchgeo/main/inferencing.yml\n",
      "inferencing-checkpoint: Final model checkpoint https://zenodo.org/record/5773331/files/last.ckpt?download=1\n"
     ]
    }
   ],
   "source": [
    "# note: the assets property is a dictionary\n",
    "for key, asset in cyclone_model.assets.items():\n",
    "    print(f\"{key}: {asset.title} {asset.href}\")"
   ]
  },
  {
   "cell_type": "markdown",
   "metadata": {},
   "source": [
    "## Low-Level Client\n",
    "\n",
    "The low-level client functions also provide a way of interacting with the Radiant MLHub API `/models` endpoint using Python. These methods return native Python data types (e.g. `list`, `dict`, etc.) rather than the `MLModel` instances documented above.\n",
    "\n",
    "All low-level client functions are contained in the `radiant_mlhub.client` module (imported above). All of these methods accept the `profile` and `api_key` keyword arguments, which are passed directly to `radiant_mlhub.get_session`, if provided."
   ]
  },
  {
   "cell_type": "markdown",
   "metadata": {},
   "source": [
    "### List Models\n",
    "\n",
    "You can use the `list_models` method to loop through all of the available models. This method makes requests to the `/models` endpoint."
   ]
  },
  {
   "cell_type": "code",
   "execution_count": 11,
   "metadata": {},
   "outputs": [
    {
     "name": "stdout",
     "output_type": "stream",
     "text": [
      "{'assets': {'inferencing-checkpoint': {'href': 'https://zenodo.org/record/5773331/files/last.ckpt?download=1',\n",
      "                                       'roles': ['ml-model:checkpoint'],\n",
      "                                       'title': 'Final model checkpoint',\n",
      "                                       'type': 'application/octet-stream'},\n",
      "            'inferencing-compose': {'href': 'https://raw.githubusercontent.com/RadiantMLHub/cyclone-model-torchgeo/main/inferencing.yml',\n",
      "                                    'roles': ['ml-model:inference-runtime'],\n",
      "                                    'title': 'Model inferencing runtime',\n",
      "                                    'type': 'text/x-yaml; '\n",
      "                                            'application=compose'}},\n",
      " 'bbox': [-179.999, -89.999, 179.999, 89.999],\n",
      " 'collection': 'model-cyclone-wind-estimation-torchgeo',\n",
      " 'geometry': {'coordinates': [[[-179.999, -89.999],\n",
      "                               [179.999, -89.999],\n",
      "                               [179.999, 89.999],\n",
      "                               [-179.999, 89.999],\n",
      "                               [-179.999, -89.999]]],\n",
      "              'type': 'Polygon'},\n",
      " 'id': 'model-cyclone-wind-estimation-torchgeo-v1',\n",
      " 'links': [{'href': './catalog.json',\n",
      "            'rel': 'root',\n",
      "            'title': 'Root Catalog',\n",
      "            'type': 'application/json'},\n",
      "           {'href': './catalog.json',\n",
      "            'rel': 'parent',\n",
      "            'title': 'Root Catalog',\n",
      "            'type': 'application/json'},\n",
      "           {'href': 'docker.io/radiantearth/cyclone-model-torchgeo:1',\n",
      "            'rel': 'ml-model:inferencing-image',\n",
      "            'title': 'Cyclone Wind Estimation Model',\n",
      "            'type': 'docker-image'},\n",
      "           {'href': 'https://api.radiant.earth/mlhub/v1/collections/nasa_tropical_storm_competition_train_source',\n",
      "            'rel': 'ml-model:train-data',\n",
      "            'title': 'Training Data',\n",
      "            'type': 'application/json'},\n",
      "           {'href': 'https://mlhub.earth/data/nasa_tropical_storm_competition',\n",
      "            'rel': 'mlhub:training-dataset',\n",
      "            'title': 'Tropical Cyclone Wind Estimation Competition Dataset',\n",
      "            'type': 'text/html'}],\n",
      " 'properties': {'datetime': None,\n",
      "                'description': 'This is a PyTorch model trained on the '\n",
      "                               '[Tropical Cyclone Wind Estimation '\n",
      "                               'Competition](https://registry.mlhub.earth/10.34911/rdnt.xs53up/) '\n",
      "                               'dataset with v0.1 of the '\n",
      "                               '[TorchGeo](https://github.com/microsoft/torchgeo) '\n",
      "                               'package. The model is a resnet18 model '\n",
      "                               'pretrained on '\n",
      "                               '[ImageNet](https://www.image-net.org/index.php) '\n",
      "                               'then trained with a MSE loss. The data were '\n",
      "                               'randomly split 80/20 by storm ID and an early '\n",
      "                               'stop was used based on performance.',\n",
      "                'end_datetime': '9999-12-31T23:59:59Z',\n",
      "                'license': 'MIT',\n",
      "                'ml-model:architecture': 'resnet18',\n",
      "                'ml-model:learning_approach': 'supervised',\n",
      "                'ml-model:prediction_type': 'regression',\n",
      "                'ml-model:type': 'ml-model',\n",
      "                'providers': [{'email': 'caleb.robinson@microsoft.com',\n",
      "                               'name': 'Microsoft AI for Good Research Lab '\n",
      "                                       '(Caleb Robinson)',\n",
      "                               'roles': ['producer'],\n",
      "                               'url': 'https://www.microsoft.com/en-us/ai/ai-for-good'}],\n",
      "                'sci:citation': 'Caleb Robinson. (2021). Tropical Cyclone Wind '\n",
      "                                'Estimation model (2.0). Zenodo. '\n",
      "                                'https://doi.org/10.5281/zenodo.5773331.',\n",
      "                'sci:doi': '10.5281/zenodo.5773331',\n",
      "                'sci:publications': [{'citation': 'Stewart, A., Robinson, C. '\n",
      "                                                  'and Corley, I., 2021. '\n",
      "                                                  'TorchGeo: deep learning '\n",
      "                                                  'with geospatial data. arXiv '\n",
      "                                                  'preprint arXiv:2111.08872, '\n",
      "                                                  '[online] (11). Available '\n",
      "                                                  'at: '\n",
      "                                                  '<https://arxiv.org/abs/2111.08872> '\n",
      "                                                  '[Date Accessed].'}],\n",
      "                'start_datetime': '2000-01-01T00:00:00Z',\n",
      "                'title': 'Tropical Cyclone Wind Estimation Model'},\n",
      " 'stac_extensions': ['https://stac-extensions.github.io/ml-model/v1.0.0/schema.json',\n",
      "                     'https://stac-extensions.github.io/scientific/v1.0.0/schema.json'],\n",
      " 'stac_version': '1.0.0',\n",
      " 'type': 'Feature'}\n"
     ]
    }
   ],
   "source": [
    "models = client.list_models()\n",
    "\n",
    "first_model = models[0]\n",
    "pprint(first_model)"
   ]
  },
  {
   "cell_type": "markdown",
   "metadata": {},
   "source": [
    "### Fetch a Model\n",
    "\n",
    "You can use the `get_model_by_id` method to fetch a model by ID. This method returns a Python dictionary representing the model object."
   ]
  },
  {
   "cell_type": "code",
   "execution_count": 16,
   "metadata": {},
   "outputs": [
    {
     "name": "stdout",
     "output_type": "stream",
     "text": [
      "{'assets': {'inferencing-checkpoint': {'href': 'https://zenodo.org/record/5773331/files/last.ckpt?download=1',\n",
      "                                       'roles': ['ml-model:checkpoint'],\n",
      "                                       'title': 'Final model checkpoint',\n",
      "                                       'type': 'application/octet-stream'},\n",
      "            'inferencing-compose': {'href': 'https://raw.githubusercontent.com/RadiantMLHub/cyclone-model-torchgeo/main/inferencing.yml',\n",
      "                                    'roles': ['ml-model:inference-runtime'],\n",
      "                                    'title': 'Model inferencing runtime',\n",
      "                                    'type': 'text/x-yaml; '\n",
      "                                            'application=compose'}},\n",
      " 'bbox': [-179.999, -89.999, 179.999, 89.999],\n",
      " 'collection': 'model-cyclone-wind-estimation-torchgeo',\n",
      " 'geometry': {'coordinates': [[[-179.999, -89.999],\n",
      "                               [179.999, -89.999],\n",
      "                               [179.999, 89.999],\n",
      "                               [-179.999, 89.999],\n",
      "                               [-179.999, -89.999]]],\n",
      "              'type': 'Polygon'},\n",
      " 'id': 'model-cyclone-wind-estimation-torchgeo-v1',\n",
      " 'links': [{'href': './catalog.json',\n",
      "            'rel': 'root',\n",
      "            'title': 'Root Catalog',\n",
      "            'type': 'application/json'},\n",
      "           {'href': './catalog.json',\n",
      "            'rel': 'parent',\n",
      "            'title': 'Root Catalog',\n",
      "            'type': 'application/json'},\n",
      "           {'href': 'docker.io/radiantearth/cyclone-model-torchgeo:1',\n",
      "            'rel': 'ml-model:inferencing-image',\n",
      "            'title': 'Cyclone Wind Estimation Model',\n",
      "            'type': 'docker-image'},\n",
      "           {'href': 'https://api.radiant.earth/mlhub/v1/collections/nasa_tropical_storm_competition_train_source',\n",
      "            'rel': 'ml-model:train-data',\n",
      "            'title': 'Training Data',\n",
      "            'type': 'application/json'},\n",
      "           {'href': 'https://mlhub.earth/data/nasa_tropical_storm_competition',\n",
      "            'rel': 'mlhub:training-dataset',\n",
      "            'title': 'Tropical Cyclone Wind Estimation Competition Dataset',\n",
      "            'type': 'text/html'}],\n",
      " 'properties': {'datetime': None,\n",
      "                'description': 'This is a PyTorch model trained on the '\n",
      "                               '[Tropical Cyclone Wind Estimation '\n",
      "                               'Competition](https://registry.mlhub.earth/10.34911/rdnt.xs53up/) '\n",
      "                               'dataset with v0.1 of the '\n",
      "                               '[TorchGeo](https://github.com/microsoft/torchgeo) '\n",
      "                               'package. The model is a resnet18 model '\n",
      "                               'pretrained on '\n",
      "                               '[ImageNet](https://www.image-net.org/index.php) '\n",
      "                               'then trained with a MSE loss. The data were '\n",
      "                               'randomly split 80/20 by storm ID and an early '\n",
      "                               'stop was used based on performance.',\n",
      "                'end_datetime': '9999-12-31T23:59:59Z',\n",
      "                'license': 'MIT',\n",
      "                'ml-model:architecture': 'resnet18',\n",
      "                'ml-model:learning_approach': 'supervised',\n",
      "                'ml-model:prediction_type': 'regression',\n",
      "                'ml-model:type': 'ml-model',\n",
      "                'providers': [{'email': 'caleb.robinson@microsoft.com',\n",
      "                               'name': 'Microsoft AI for Good Research Lab '\n",
      "                                       '(Caleb Robinson)',\n",
      "                               'roles': ['producer'],\n",
      "                               'url': 'https://www.microsoft.com/en-us/ai/ai-for-good'}],\n",
      "                'sci:citation': 'Caleb Robinson. (2021). Tropical Cyclone Wind '\n",
      "                                'Estimation model (2.0). Zenodo. '\n",
      "                                'https://doi.org/10.5281/zenodo.5773331.',\n",
      "                'sci:doi': '10.5281/zenodo.5773331',\n",
      "                'sci:publications': [{'citation': 'Stewart, A., Robinson, C. '\n",
      "                                                  'and Corley, I., 2021. '\n",
      "                                                  'TorchGeo: deep learning '\n",
      "                                                  'with geospatial data. arXiv '\n",
      "                                                  'preprint arXiv:2111.08872, '\n",
      "                                                  '[online] (11). Available '\n",
      "                                                  'at: '\n",
      "                                                  '<https://arxiv.org/abs/2111.08872> '\n",
      "                                                  '[Date Accessed].'}],\n",
      "                'start_datetime': '2000-01-01T00:00:00Z',\n",
      "                'title': 'Tropical Cyclone Wind Estimation Model'},\n",
      " 'stac_extensions': ['https://stac-extensions.github.io/ml-model/v1.0.0/schema.json',\n",
      "                     'https://stac-extensions.github.io/scientific/v1.0.0/schema.json'],\n",
      " 'stac_version': '1.0.0',\n",
      " 'type': 'Feature'}\n"
     ]
    }
   ],
   "source": [
    "cyclone_model_dict = client.get_model_by_id('model-cyclone-wind-estimation-torchgeo-v1')\n",
    "pprint(cyclone_model_dict)"
   ]
  },
  {
   "cell_type": "code",
   "execution_count": null,
   "metadata": {},
   "outputs": [],
   "source": []
  }
 ],
 "metadata": {
  "kernelspec": {
   "display_name": "Python 3",
   "language": "python",
   "name": "python3"
  },
  "language_info": {
   "codemirror_mode": {
    "name": "ipython",
    "version": 3
   },
   "file_extension": ".py",
   "mimetype": "text/x-python",
   "name": "python",
   "nbconvert_exporter": "python",
   "pygments_lexer": "ipython3",
   "version": "3.9.7"
  }
 },
 "nbformat": 4,
 "nbformat_minor": 4
}
