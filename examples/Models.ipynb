{
 "cells": [
  {
   "cell_type": "markdown",
   "metadata": {},
   "source": [
    "[![Radiant MLHub Logo](https://radiant-assets.s3-us-west-2.amazonaws.com/PrimaryRadiantMLHubLogo.png)](https://mlhub.earth/)"
   ]
  },
  {
   "cell_type": "markdown",
   "metadata": {},
   "source": [
    "# Models\n",
    "\n",
    "A **Model** in the Radiant MLHub API is a STAC item implementing the [ML Model\n",
    "extension](https://github.com/stac-extensions/ml-model). The goal of the STAC\n",
    "ML Model Extension is to provide a way of cataloging machine learning (ML)\n",
    "models that operate on Earth observation (EO) data described as a STAC catalog.\n",
    "\n",
    "This notebook will walk you through a few common techniques for working with\n",
    "Radiant MLHub model, including:\n",
    "\n",
    "* Listing available models\n",
    "* Fetching a model\n",
    "* Fetching assets and links associated with a model\n",
    "\n",
    "\n"
   ]
  },
  {
   "cell_type": "markdown",
   "metadata": {},
   "source": [
    "### Import Libraries"
   ]
  },
  {
   "cell_type": "code",
   "execution_count": 1,
   "metadata": {},
   "outputs": [],
   "source": [
    "from pprint import pprint\n",
    "\n",
    "from radiant_mlhub import MLModel, client"
   ]
  },
  {
   "cell_type": "markdown",
   "metadata": {},
   "source": [
    "## `MLModel` Class\n",
    "\n",
    "Using the `radiant_mlhub.MLModel` class is the recommended method for working with models as Python objects (see [Low-Level Client](#Low-Level-Client) docs below for how to work with raw API responses). The `MLModel` class has some convenient methods for listing and fetching models, as well as fetching the assets associated with those models."
   ]
  },
  {
   "cell_type": "markdown",
   "metadata": {},
   "source": [
    "### List Models\n",
    "\n",
    "You can use the `MLModel.list` class method to list all models available\n",
    "through the Radiant MLHub API. Each instance has `id` and `properties` attributes\n",
    "that you can inspect to get more information about the model, and the `assets` and\n",
    "`links` properties that you can use to get the links associated with the\n",
    "models."
   ]
  },
  {
   "cell_type": "code",
   "execution_count": 2,
   "metadata": {},
   "outputs": [
    {
     "name": "stdout",
     "output_type": "stream",
     "text": [
      "Tropical Cyclone Wind Estimation Model (model-cyclone-wind-estimation-torchgeo-v1)\n"
     ]
    }
   ],
   "source": [
    "models = MLModel.list()\n",
    "\n",
    "# List the title and ID of first 10 models returned by the API\n",
    "for model in models:\n",
    "    print(f\"{model.properties.get('title')} ({model.id})\")"
   ]
  },
  {
   "cell_type": "markdown",
   "metadata": {},
   "source": [
    "### Fetch a Model\n",
    "\n",
    "If you know the ID of a model, you can also fetch it directly using the `MLModel.fetch` method. This method returns a `MLModel` instance."
   ]
  },
  {
   "cell_type": "code",
   "execution_count": 3,
   "metadata": {},
   "outputs": [
    {
     "name": "stdout",
     "output_type": "stream",
     "text": [
      "This is a PyTorch model trained on the [Tropical Cyclone Wind Estimation Competition](https://registry.mlhub.earth/10.34911/rdnt.xs53up/) dataset with v0.1 of the [TorchGeo](https://github.com/microsoft/torchgeo) package. The model is a resnet18 model pretrained on [ImageNet](https://www.image-net.org/index.php) then trained with a MSE loss. The data were randomly split 80/20 by storm ID and an early stop was used based on performance.\n"
     ]
    }
   ],
   "source": [
    "cyclone_model = MLModel.fetch('model-cyclone-wind-estimation-torchgeo-v1')\n",
    "print(cyclone_model.properties.get('description'))"
   ]
  },
  {
   "cell_type": "markdown",
   "metadata": {},
   "source": [
    "### List Model's Assets and Links\n",
    "\n",
    "A Model has assets, e.g. model inferencing runtime, model checkpoint, and also links\n",
    "for example to training data, and/or to related Datasets."
   ]
  },
  {
   "cell_type": "code",
   "execution_count": 4,
   "metadata": {},
   "outputs": [
    {
     "name": "stdout",
     "output_type": "stream",
     "text": [
      "collection link -> http://api.radiant.earth/mlhub/v1/collections/model-cyclone-wind-estimation-torchgeo\n",
      "parent link -> http://api.radiant.earth/mlhub/v1/collections/model-cyclone-wind-estimation-torchgeo\n",
      "root link -> http://api.radiant.earth/mlhub/v1/\n",
      "self link -> http://api.radiant.earth/mlhub/v1/collections/model-cyclone-wind-estimation-torchgeo/items/model-cyclone-wind-estimation-torchgeo-v1\n",
      "ml-model:inferencing-image link -> docker://docker.io/radiantearth/cyclone-model-torchgeo:1\n",
      "ml-model:train-data link -> https://api.radiant.earth/mlhub/v1/collections/nasa_tropical_storm_competition_train_source\n",
      "mlhub:training-dataset link -> https://mlhub.earth/data/nasa_tropical_storm_competition\n"
     ]
    }
   ],
   "source": [
    "for link in cyclone_model.links:\n",
    "    print(f\"{link.rel} link -> {link.href}\")"
   ]
  },
  {
   "cell_type": "code",
   "execution_count": 5,
   "metadata": {},
   "outputs": [
    {
     "name": "stdout",
     "output_type": "stream",
     "text": [
      "inferencing-compose: Model inferencing runtime https://raw.githubusercontent.com/RadiantMLHub/cyclone-model-torchgeo/main/inferencing.yml\n",
      "inferencing-checkpoint: Final model checkpoint https://zenodo.org/record/5773331/files/last.ckpt?download=1\n"
     ]
    }
   ],
   "source": [
    "# note: the assets property is a dictionary\n",
    "for key, asset in cyclone_model.assets.items():\n",
    "    print(f\"{key}: {asset.title} {asset.href}\")"
   ]
  },
  {
   "cell_type": "markdown",
   "metadata": {},
   "source": [
    "## Low-Level Client\n",
    "\n",
    "The low-level client functions also provide a way of interacting with the Radiant MLHub API `/models` endpoint using Python. These methods return native Python data types (e.g. `list`, `dict`, etc.) rather than the `MLModel` instances documented above.\n",
    "\n",
    "All low-level client functions are contained in the `radiant_mlhub.client` module (imported above). All of these methods accept the `profile` and `api_key` keyword arguments, which are passed directly to `radiant_mlhub.get_session`, if provided."
   ]
  },
  {
   "cell_type": "markdown",
   "metadata": {},
   "source": [
    "### List Models\n",
    "\n",
    "You can use the `list_models` method to loop through all of the available models. This method makes requests to the `/models` endpoint."
   ]
  },
  {
   "cell_type": "code",
   "execution_count": 6,
   "metadata": {},
   "outputs": [
    {
     "name": "stdout",
     "output_type": "stream",
     "text": [
      "{'datetime': None,\n",
      " 'description': 'This is a PyTorch model trained on the [Tropical Cyclone Wind '\n",
      "                'Estimation '\n",
      "                'Competition](https://registry.mlhub.earth/10.34911/rdnt.xs53up/) '\n",
      "                'dataset with v0.1 of the '\n",
      "                '[TorchGeo](https://github.com/microsoft/torchgeo) package. '\n",
      "                'The model is a resnet18 model pretrained on '\n",
      "                '[ImageNet](https://www.image-net.org/index.php) then trained '\n",
      "                'with a MSE loss. The data were randomly split 80/20 by storm '\n",
      "                'ID and an early stop was used based on performance.',\n",
      " 'end_datetime': '9999-12-31T23:59:59Z',\n",
      " 'license': 'MIT',\n",
      " 'ml-model:architecture': 'resnet18',\n",
      " 'ml-model:learning_approach': 'supervised',\n",
      " 'ml-model:prediction_type': 'regression',\n",
      " 'ml-model:type': 'ml-model',\n",
      " 'providers': [{'email': 'caleb.robinson@microsoft.com',\n",
      "                'name': 'Microsoft AI for Good Research Lab (Caleb Robinson)',\n",
      "                'roles': ['producer'],\n",
      "                'url': 'https://www.microsoft.com/en-us/ai/ai-for-good'}],\n",
      " 'sci:citation': 'Caleb Robinson. (2021). Tropical Cyclone Wind Estimation '\n",
      "                 'model (2.0). Zenodo. https://doi.org/10.5281/zenodo.5773331.',\n",
      " 'sci:doi': '10.5281/zenodo.5773331',\n",
      " 'sci:publications': [{'citation': 'Stewart, A., Robinson, C. and Corley, I., '\n",
      "                                   '2021. TorchGeo: deep learning with '\n",
      "                                   'geospatial data. arXiv preprint '\n",
      "                                   'arXiv:2111.08872, [online] (11). Available '\n",
      "                                   'at: <https://arxiv.org/abs/2111.08872> '\n",
      "                                   '[Date Accessed].'}],\n",
      " 'start_datetime': '2000-01-01T00:00:00Z',\n",
      " 'title': 'Tropical Cyclone Wind Estimation Model'}\n"
     ]
    }
   ],
   "source": [
    "models = client.list_models()\n",
    "\n",
    "first_model = models[0]\n",
    "pprint(first_model['properties'])"
   ]
  },
  {
   "cell_type": "markdown",
   "metadata": {},
   "source": [
    "### Fetch a Model\n",
    "\n",
    "You can use the `get_model_by_id` method to fetch a model by ID. This method returns a Python dictionary representing the model object."
   ]
  },
  {
   "cell_type": "code",
   "execution_count": 7,
   "metadata": {},
   "outputs": [
    {
     "name": "stdout",
     "output_type": "stream",
     "text": [
      "{'assets': {'inferencing-checkpoint': {'href': 'https://zenodo.org/record/5773331/files/last.ckpt?download=1',\n",
      "                                       'roles': ['ml-model:checkpoint'],\n",
      "                                       'title': 'Final model checkpoint',\n",
      "                                       'type': 'application/octet-stream'},\n",
      "            'inferencing-compose': {'href': 'https://raw.githubusercontent.com/RadiantMLHub/cyclone-model-torchgeo/main/inferencing.yml',\n",
      "                                    'roles': ['ml-model:inference-runtime'],\n",
      "                                    'title': 'Model inferencing runtime',\n",
      "                                    'type': 'text/x-yaml; '\n",
      "                                            'application=compose'}},\n",
      " 'bbox': [-179.999, -89.999, 179.999, 89.999],\n",
      " 'collection': 'model-cyclone-wind-estimation-torchgeo',\n",
      " 'geometry': {'coordinates': [[[-179.999, -89.999],\n",
      "                               [179.999, -89.999],\n",
      "                               [179.999, 89.999],\n",
      "                               [-179.999, 89.999],\n",
      "                               [-179.999, -89.999]]],\n",
      "              'type': 'Polygon'},\n",
      " 'id': 'model-cyclone-wind-estimation-torchgeo-v1',\n",
      " 'links': [{'href': 'http://api.radiant.earth/mlhub/v1/collections/model-cyclone-wind-estimation-torchgeo',\n",
      "            'rel': 'collection',\n",
      "            'type': 'application/json'},\n",
      "           {'href': 'http://api.radiant.earth/mlhub/v1/collections/model-cyclone-wind-estimation-torchgeo',\n",
      "            'rel': 'parent',\n",
      "            'type': 'application/json'},\n",
      "           {'href': 'http://api.radiant.earth/mlhub/v1/',\n",
      "            'rel': 'root',\n",
      "            'type': 'application/json'},\n",
      "           {'href': 'http://api.radiant.earth/mlhub/v1/collections/model-cyclone-wind-estimation-torchgeo/items/model-cyclone-wind-estimation-torchgeo-v1',\n",
      "            'rel': 'self',\n",
      "            'type': 'application/geo+json'},\n",
      "           {'href': 'docker://docker.io/radiantearth/cyclone-model-torchgeo:1',\n",
      "            'rel': 'ml-model:inferencing-image',\n",
      "            'title': 'Cyclone Wind Estimation Model',\n",
      "            'type': 'docker-image'},\n",
      "           {'href': 'https://api.radiant.earth/mlhub/v1/collections/nasa_tropical_storm_competition_train_source',\n",
      "            'rel': 'ml-model:train-data',\n",
      "            'title': 'Training Data',\n",
      "            'type': 'application/json'},\n",
      "           {'href': 'https://mlhub.earth/data/nasa_tropical_storm_competition',\n",
      "            'rel': 'mlhub:training-dataset',\n",
      "            'title': 'Tropical Cyclone Wind Estimation Competition Dataset',\n",
      "            'type': 'text/html'}],\n",
      " 'properties': {'datetime': None,\n",
      "                'description': 'This is a PyTorch model trained on the '\n",
      "                               '[Tropical Cyclone Wind Estimation '\n",
      "                               'Competition](https://registry.mlhub.earth/10.34911/rdnt.xs53up/) '\n",
      "                               'dataset with v0.1 of the '\n",
      "                               '[TorchGeo](https://github.com/microsoft/torchgeo) '\n",
      "                               'package. The model is a resnet18 model '\n",
      "                               'pretrained on '\n",
      "                               '[ImageNet](https://www.image-net.org/index.php) '\n",
      "                               'then trained with a MSE loss. The data were '\n",
      "                               'randomly split 80/20 by storm ID and an early '\n",
      "                               'stop was used based on performance.',\n",
      "                'end_datetime': '9999-12-31T23:59:59Z',\n",
      "                'license': 'MIT',\n",
      "                'ml-model:architecture': 'resnet18',\n",
      "                'ml-model:learning_approach': 'supervised',\n",
      "                'ml-model:prediction_type': 'regression',\n",
      "                'ml-model:type': 'ml-model',\n",
      "                'providers': [{'email': 'caleb.robinson@microsoft.com',\n",
      "                               'name': 'Microsoft AI for Good Research Lab '\n",
      "                                       '(Caleb Robinson)',\n",
      "                               'roles': ['producer'],\n",
      "                               'url': 'https://www.microsoft.com/en-us/ai/ai-for-good'}],\n",
      "                'sci:citation': 'Caleb Robinson. (2021). Tropical Cyclone Wind '\n",
      "                                'Estimation model (2.0). Zenodo. '\n",
      "                                'https://doi.org/10.5281/zenodo.5773331.',\n",
      "                'sci:doi': '10.5281/zenodo.5773331',\n",
      "                'sci:publications': [{'citation': 'Stewart, A., Robinson, C. '\n",
      "                                                  'and Corley, I., 2021. '\n",
      "                                                  'TorchGeo: deep learning '\n",
      "                                                  'with geospatial data. arXiv '\n",
      "                                                  'preprint arXiv:2111.08872, '\n",
      "                                                  '[online] (11). Available '\n",
      "                                                  'at: '\n",
      "                                                  '<https://arxiv.org/abs/2111.08872> '\n",
      "                                                  '[Date Accessed].'}],\n",
      "                'start_datetime': '2000-01-01T00:00:00Z',\n",
      "                'title': 'Tropical Cyclone Wind Estimation Model'},\n",
      " 'stac_extensions': ['https://stac-extensions.github.io/ml-model/v1.0.0/schema.json',\n",
      "                     'https://stac-extensions.github.io/scientific/v1.0.0/schema.json'],\n",
      " 'stac_version': '1.0.0',\n",
      " 'type': 'Feature'}\n"
     ]
    }
   ],
   "source": [
    "cyclone_model_dict = client.get_model_by_id('model-cyclone-wind-estimation-torchgeo-v1')\n",
    "pprint(cyclone_model_dict)"
   ]
  }
 ],
 "metadata": {
  "kernelspec": {
   "display_name": "Python 3 (ipykernel)",
   "language": "python",
   "name": "python3"
  },
  "language_info": {
   "codemirror_mode": {
    "name": "ipython",
    "version": 3
   },
   "file_extension": ".py",
   "mimetype": "text/x-python",
   "name": "python",
   "nbconvert_exporter": "python",
   "pygments_lexer": "ipython3",
   "version": "3.9.7"
  }
 },
 "nbformat": 4,
 "nbformat_minor": 4
}
